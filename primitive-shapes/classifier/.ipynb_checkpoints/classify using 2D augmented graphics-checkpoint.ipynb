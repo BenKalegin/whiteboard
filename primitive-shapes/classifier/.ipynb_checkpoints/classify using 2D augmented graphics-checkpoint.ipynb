{
 "cells": [
  {
   "cell_type": "code",
   "execution_count": 1,
   "metadata": {},
   "outputs": [],
   "source": [
    "#conda create -n tfgpu\n",
    "#source activate tfgpu\n",
    "#conda install tensorflow-gpu\n",
    "#conda install matplotlib\n",
    "#conda install pillow\n",
    "#conda install sklearn\n",
    "\n",
    "import tensorflow as tf\n",
    "import keras_preprocessing\n",
    "from keras_preprocessing import image\n",
    "from keras_preprocessing.image import ImageDataGenerator"
   ]
  },
  {
   "cell_type": "code",
   "execution_count": 99,
   "metadata": {},
   "outputs": [
    {
     "name": "stdout",
     "output_type": "stream",
     "text": [
      "total training rectangle images: 100\n",
      "total training ellipse images: 100\n",
      "total training roundrect images: 100\n"
     ]
    }
   ],
   "source": [
    "import os\n",
    "import zipfile\n",
    "\n",
    "rectangle_dir = os.path.join('../generated-data/training/rectangle')\n",
    "rectangle_files = os.listdir(rectangle_dir)\n",
    "\n",
    "ellipse_dir = os.path.join('../generated-data/training/ellipse')\n",
    "ellipse_files = os.listdir(ellipse_dir)\n",
    "\n",
    "roundrect_dir = os.path.join('../generated-data/training/roundrect')\n",
    "roundrect_files = os.listdir(roundrect_dir)\n",
    "\n",
    "print('total training rectangle images:', len(os.listdir(rectangle_dir)))\n",
    "print('total training ellipse images:', len(os.listdir(ellipse_dir)))\n",
    "print('total training roundrect images:', len(os.listdir(roundrect_dir)))"
   ]
  },
  {
   "cell_type": "code",
   "execution_count": 100,
   "metadata": {},
   "outputs": [
    {
     "data": {
      "image/png": "[encoded data removed]",
      "text/plain": [
       "<Figure size 432x288 with 6 Axes>"
      ]
     },
     "metadata": {
      "needs_background": "light"
     },
     "output_type": "display_data"
    }
   ],
   "source": [
    "%matplotlib inline\n",
    "\n",
    "import matplotlib.pyplot as plt\n",
    "import matplotlib.image as mpimg\n",
    "\n",
    "pic_index = 2\n",
    "\n",
    "next_rectangle = [os.path.join(rectangle_dir, fname) \n",
    "                for fname in rectangle_files[pic_index-2:pic_index]]\n",
    "next_ellipse = [os.path.join(ellipse_dir, fname) \n",
    "                for fname in ellipse_files[pic_index-2:pic_index]]\n",
    "next_roundrect = [os.path.join(roundrect_dir, fname) \n",
    "                for fname in roundrect_files[pic_index-2:pic_index]]\n",
    "\n",
    "images = enumerate(next_rectangle+next_ellipse+next_roundrect)\n",
    "\n",
    "for i in range(6):\n",
    "    plt.subplot(330 + 1 + i)\n",
    "    _, batch = next(images)\n",
    "    img = mpimg.imread(batch)\n",
    "    plt.imshow(img)\n",
    "    plt.axis('Off')\n",
    "plt.show()"
   ]
  },
  {
   "cell_type": "code",
   "execution_count": 101,
   "metadata": {},
   "outputs": [
    {
     "name": "stdout",
     "output_type": "stream",
     "text": [
      "(150, 150)\n"
     ]
    },
    {
     "data": {
      "image/png": "[encoded data removed]",
      "text/plain": [
       "<Figure size 432x288 with 1 Axes>"
      ]
     },
     "metadata": {
      "needs_background": "light"
     },
     "output_type": "display_data"
    }
   ],
   "source": [
    "from PIL import Image\n",
    "import numpy as np\n",
    "\n",
    "image = Image.open('../generated-data/training/ellipse/0000.png').convert(\"L\")\n",
    "arr = np.asarray(image)\n",
    "print(arr.shape)\n",
    "plt.imshow(arr, cmap='gray', vmin=0, vmax=255)\n",
    "plt.show()"
   ]
  },
  {
   "cell_type": "code",
   "execution_count": 109,
   "metadata": {},
   "outputs": [
    {
     "name": "stdout",
     "output_type": "stream",
     "text": [
      "Found 300 images belonging to 3 classes.\n",
      "Found 60 images belonging to 3 classes.\n"
     ]
    }
   ],
   "source": [
    "TRAINING_DIR = \"../generated-data/training/\"\n",
    "training_datagen = ImageDataGenerator(\n",
    "    rescale = 1./255,  #have pixel value\n",
    "    rotation_range=10, #Int. Degree range for random rotations\n",
    "#     width_shift_range=0.8, # Float, 1-D array-like or int - float: fraction of total width, if < 1, or pixels if >= 1\n",
    "#     height_shift_range=0.8, # Float, 1-D array-like or int - float: fraction of total heigth, if < 1, or pixels if >= 1\n",
    "#     shear_range=0.2, #Float. Shear Intensity (Shear angle in counter-clockwise direction in degrees)\n",
    "#     zoom_range=0.8,\n",
    "#     horizontal_flip=False,\n",
    "#     fill_mode='nearest'\n",
    ")\n",
    "\n",
    "\n",
    "# A `DirectoryIterator` yielding tuples of `(x, y)`\n",
    "# where `x` is a NumPy array containing a batch\n",
    "# of images with shape `(batch_size, *target_size, channels)`\n",
    "# and `y` is a NumPy array of corresponding labels.\n",
    "# that is, in our case \n",
    "# x shape:(32, 150, 150, 1)\n",
    "# y shape:(32, 3)\n",
    "\n",
    "\n",
    "train_generator = training_datagen.flow_from_directory(\n",
    "\tTRAINING_DIR,\n",
    "    color_mode = 'grayscale', # convert to 8bit\n",
    "\ttarget_size=(150,150),\n",
    "    class_mode='categorical',\n",
    "    batch_size=64\n",
    ")\n",
    "\n",
    "\n",
    "# x,y = train_generator.next()\n",
    "# plt.imshow(x[1])\n",
    "# plt.show()\n",
    "    \n",
    "       \n",
    "VALIDATION_DIR = \"../generated-data/validation/\"\n",
    "validation_datagen = ImageDataGenerator(rescale = 1./255)\n",
    "\n",
    "validation_generator = validation_datagen.flow_from_directory(\n",
    "    VALIDATION_DIR,\n",
    "    color_mode = 'grayscale', # convert to 8bit\n",
    "    target_size=(150,150),\n",
    "    class_mode='categorical',\n",
    "    batch_size=64\n",
    ")"
   ]
  },
  {
   "cell_type": "code",
   "execution_count": 110,
   "metadata": {},
   "outputs": [
    {
     "name": "stdout",
     "output_type": "stream",
     "text": [
      "Model: \"sequential_8\"\n",
      "_________________________________________________________________\n",
      "Layer (type)                 Output Shape              Param #   \n",
      "=================================================================\n",
      "conv2d_32 (Conv2D)           (None, 148, 148, 64)      640       \n",
      "_________________________________________________________________\n",
      "max_pooling2d_32 (MaxPooling (None, 74, 74, 64)        0         \n",
      "_________________________________________________________________\n",
      "conv2d_33 (Conv2D)           (None, 72, 72, 64)        36928     \n",
      "_________________________________________________________________\n",
      "max_pooling2d_33 (MaxPooling (None, 36, 36, 64)        0         \n",
      "_________________________________________________________________\n",
      "conv2d_34 (Conv2D)           (None, 34, 34, 128)       73856     \n",
      "_________________________________________________________________\n",
      "max_pooling2d_34 (MaxPooling (None, 17, 17, 128)       0         \n",
      "_________________________________________________________________\n",
      "conv2d_35 (Conv2D)           (None, 15, 15, 128)       147584    \n",
      "_________________________________________________________________\n",
      "max_pooling2d_35 (MaxPooling (None, 7, 7, 128)         0         \n",
      "_________________________________________________________________\n",
      "flatten_8 (Flatten)          (None, 6272)              0         \n",
      "_________________________________________________________________\n",
      "dropout_8 (Dropout)          (None, 6272)              0         \n",
      "_________________________________________________________________\n",
      "dense_16 (Dense)             (None, 256)               1605888   \n",
      "_________________________________________________________________\n",
      "dense_17 (Dense)             (None, 3)                 771       \n",
      "=================================================================\n",
      "Total params: 1,865,667\n",
      "Trainable params: 1,865,667\n",
      "Non-trainable params: 0\n",
      "_________________________________________________________________\n",
      "Epoch 1/25\n",
      "20/20 [==============================] - 54s 3s/step - loss: 1.6099 - accuracy: 0.3083 - val_loss: 1.0960 - val_accuracy: 0.3333\n",
      "Epoch 2/25\n",
      "20/20 [==============================] - 53s 3s/step - loss: 0.9957 - accuracy: 0.4708 - val_loss: 1.7238 - val_accuracy: 0.4000\n",
      "Epoch 3/25\n",
      "20/20 [==============================] - 55s 3s/step - loss: 0.7358 - accuracy: 0.6867 - val_loss: 0.4548 - val_accuracy: 0.7333\n",
      "Epoch 4/25\n",
      "20/20 [==============================] - 56s 3s/step - loss: 0.5183 - accuracy: 0.8008 - val_loss: 0.3050 - val_accuracy: 0.9167\n",
      "Epoch 5/25\n",
      "20/20 [==============================] - 53s 3s/step - loss: 0.3890 - accuracy: 0.8458 - val_loss: 0.5040 - val_accuracy: 0.8167\n",
      "Epoch 6/25\n",
      "20/20 [==============================] - 53s 3s/step - loss: 0.3439 - accuracy: 0.8675 - val_loss: 0.2855 - val_accuracy: 0.9333\n",
      "Epoch 7/25\n",
      "20/20 [==============================] - 53s 3s/step - loss: 0.2283 - accuracy: 0.9117 - val_loss: 0.2135 - val_accuracy: 0.9000\n",
      "Epoch 8/25\n",
      "20/20 [==============================] - 53s 3s/step - loss: 0.1959 - accuracy: 0.9250 - val_loss: 0.5147 - val_accuracy: 0.8833\n",
      "Epoch 9/25\n",
      "20/20 [==============================] - 53s 3s/step - loss: 0.1851 - accuracy: 0.9333 - val_loss: 0.3914 - val_accuracy: 0.9000\n",
      "Epoch 10/25\n",
      "20/20 [==============================] - 53s 3s/step - loss: 0.1598 - accuracy: 0.9458 - val_loss: 0.2476 - val_accuracy: 0.9000\n",
      "Epoch 11/25\n",
      "20/20 [==============================] - 53s 3s/step - loss: 0.1007 - accuracy: 0.9608 - val_loss: 0.1255 - val_accuracy: 0.9667\n",
      "Epoch 12/25\n",
      "20/20 [==============================] - 53s 3s/step - loss: 0.1579 - accuracy: 0.9550 - val_loss: 0.1271 - val_accuracy: 0.9667\n",
      "Epoch 13/25\n",
      "20/20 [==============================] - 53s 3s/step - loss: 0.0736 - accuracy: 0.9775 - val_loss: 0.2051 - val_accuracy: 0.9667\n",
      "Epoch 14/25\n",
      "20/20 [==============================] - 53s 3s/step - loss: 0.0933 - accuracy: 0.9667 - val_loss: 0.2157 - val_accuracy: 0.9500\n",
      "Epoch 15/25\n",
      "20/20 [==============================] - 53s 3s/step - loss: 0.0519 - accuracy: 0.9800 - val_loss: 0.1752 - val_accuracy: 0.9667\n",
      "Epoch 16/25\n",
      "20/20 [==============================] - 53s 3s/step - loss: 0.0474 - accuracy: 0.9817 - val_loss: 0.1798 - val_accuracy: 0.9667\n",
      "Epoch 17/25\n",
      "20/20 [==============================] - 53s 3s/step - loss: 0.0708 - accuracy: 0.9700 - val_loss: 0.0650 - val_accuracy: 0.9667\n",
      "Epoch 18/25\n",
      "20/20 [==============================] - 53s 3s/step - loss: 0.0735 - accuracy: 0.9692 - val_loss: 0.1456 - val_accuracy: 0.9667\n",
      "Epoch 19/25\n",
      "20/20 [==============================] - 53s 3s/step - loss: 0.0257 - accuracy: 0.9917 - val_loss: 0.1215 - val_accuracy: 0.9833\n",
      "Epoch 20/25\n",
      "20/20 [==============================] - 53s 3s/step - loss: 0.0633 - accuracy: 0.9725 - val_loss: 1.2704 - val_accuracy: 0.8833\n",
      "Epoch 21/25\n",
      "20/20 [==============================] - 53s 3s/step - loss: 0.0461 - accuracy: 0.9908 - val_loss: 0.1669 - val_accuracy: 0.9667\n",
      "Epoch 22/25\n",
      "20/20 [==============================] - 53s 3s/step - loss: 0.0255 - accuracy: 0.9908 - val_loss: 0.2610 - val_accuracy: 0.9333\n",
      "Epoch 23/25\n",
      "20/20 [==============================] - 53s 3s/step - loss: 0.0773 - accuracy: 0.9800 - val_loss: 0.1382 - val_accuracy: 0.9667\n",
      "Epoch 24/25\n",
      "20/20 [==============================] - 53s 3s/step - loss: 0.0194 - accuracy: 0.9933 - val_loss: 0.1093 - val_accuracy: 0.9667\n",
      "Epoch 25/25\n",
      "20/20 [==============================] - 53s 3s/step - loss: 0.0789 - accuracy: 0.9767 - val_loss: 0.1240 - val_accuracy: 0.9667\n"
     ]
    }
   ],
   "source": [
    "model = tf.keras.models.Sequential([\n",
    "    # Note the input shape is the desired size of the image 150x150 with 3 bytes color\n",
    "    # This is the first convolution\n",
    "    tf.keras.layers.Conv2D(64, (3,3), activation='relu', input_shape=(150, 150, 1)),\n",
    "    tf.keras.layers.MaxPooling2D(2, 2),\n",
    "    # The second convolution\n",
    "    tf.keras.layers.Conv2D(64, (3,3), activation='relu'),\n",
    "    tf.keras.layers.MaxPooling2D(2,2),\n",
    "    # The third convolution\n",
    "    tf.keras.layers.Conv2D(128, (3,3), activation='relu'),\n",
    "    tf.keras.layers.MaxPooling2D(2,2),\n",
    "    # The fourth convolution\n",
    "    tf.keras.layers.Conv2D(128, (3,3), activation='relu'),\n",
    "    tf.keras.layers.MaxPooling2D(2,2),\n",
    "    # Flatten the results to feed into a DNN\n",
    "    tf.keras.layers.Flatten(),\n",
    "    tf.keras.layers.Dropout(0.5),\n",
    "    # 512 neuron hidden layer\n",
    "    tf.keras.layers.Dense(256, activation='relu'),\n",
    "    tf.keras.layers.Dense(3, activation='softmax')\n",
    "])\n",
    "\n",
    "model.summary()\n",
    "\n",
    "model.compile(loss = 'categorical_crossentropy', optimizer='rmsprop', metrics=['accuracy'])\n",
    "\n",
    "history = model.fit(train_generator, epochs=25, validation_data = validation_generator, steps_per_epoch=20, verbose = 1, validation_steps=3)\n",
    "\n",
    "model.save(\"rps.h5\")"
   ]
  },
  {
   "cell_type": "code",
   "execution_count": 111,
   "metadata": {},
   "outputs": [
    {
     "data": {
      "image/png": "[encoded data removed]",
      "text/plain": [
       "<Figure size 432x288 with 1 Axes>"
      ]
     },
     "metadata": {
      "needs_background": "light"
     },
     "output_type": "display_data"
    },
    {
     "data": {
      "text/plain": [
       "<Figure size 432x288 with 0 Axes>"
      ]
     },
     "metadata": {},
     "output_type": "display_data"
    }
   ],
   "source": [
    "import matplotlib.pyplot as plt\n",
    "acc = history.history['accuracy']\n",
    "val_acc = history.history['val_accuracy']\n",
    "loss = history.history['loss']\n",
    "val_loss = history.history['val_loss']\n",
    "\n",
    "epochs = range(len(acc))\n",
    "\n",
    "plt.plot(epochs, acc, 'r', label='Training accuracy')\n",
    "plt.plot(epochs, val_acc, 'b', label='Validation accuracy')\n",
    "plt.title('Training and validation accuracy')\n",
    "plt.legend(loc=0)\n",
    "plt.figure()\n",
    "\n",
    "\n",
    "plt.show()"
   ]
  },
  {
   "cell_type": "code",
   "execution_count": 116,
   "metadata": {},
   "outputs": [
    {
     "ename": "ModuleNotFoundError",
     "evalue": "No module named 'sklearn'",
     "output_type": "error",
     "traceback": [
      "\u001b[0;31m---------------------------------------------------------------------------\u001b[0m",
      "\u001b[0;31mModuleNotFoundError\u001b[0m                       Traceback (most recent call last)",
      "\u001b[0;32m<ipython-input-116-d7f75f007c55>\u001b[0m in \u001b[0;36m<module>\u001b[0;34m\u001b[0m\n\u001b[1;32m      1\u001b[0m \u001b[0;31m#Confution Matrix and Classification Report\u001b[0m\u001b[0;34m\u001b[0m\u001b[0;34m\u001b[0m\u001b[0;34m\u001b[0m\u001b[0m\n\u001b[0;32m----> 2\u001b[0;31m \u001b[0;32mfrom\u001b[0m \u001b[0msklearn\u001b[0m\u001b[0;34m.\u001b[0m\u001b[0mmetrics\u001b[0m \u001b[0;32mimport\u001b[0m \u001b[0mclassification_report\u001b[0m\u001b[0;34m,\u001b[0m \u001b[0mconfusion_matrix\u001b[0m\u001b[0;34m\u001b[0m\u001b[0;34m\u001b[0m\u001b[0m\n\u001b[0m\u001b[1;32m      3\u001b[0m \u001b[0;34m\u001b[0m\u001b[0m\n\u001b[1;32m      4\u001b[0m \u001b[0mbach_size\u001b[0m\u001b[0;34m=\u001b[0m\u001b[0;36m64\u001b[0m\u001b[0;34m\u001b[0m\u001b[0;34m\u001b[0m\u001b[0m\n\u001b[1;32m      5\u001b[0m \u001b[0mnum_of_test_samples\u001b[0m\u001b[0;34m=\u001b[0m\u001b[0;36m60\u001b[0m\u001b[0;34m\u001b[0m\u001b[0;34m\u001b[0m\u001b[0m\n",
      "\u001b[0;31mModuleNotFoundError\u001b[0m: No module named 'sklearn'"
     ]
    }
   ],
   "source": [
    "#Confution Matrix and Classification Report\n",
    "from sklearn.metrics import classification_report, confusion_matrix\n",
    "\n",
    "bach_size=64\n",
    "num_of_test_samples=60\n",
    "\n",
    "Y_pred = model.predict_generator(validation_generator, num_of_test_samples // batch_size +1)\n",
    "y_pred = np.argmax(Y_pred, axis=1)\n",
    "print('Confusion Matrix')\n",
    "print(confusion_matrix(validation_generator.classes, y_pred))\n",
    "print('Classification Report')\n",
    "target_names = ['Cats', 'Dogs', 'Horse']\n",
    "print(classification_report(validation_generator.classes, y_pred, target_names=target_names))"
   ]
  },
  {
   "cell_type": "code",
   "execution_count": null,
   "metadata": {},
   "outputs": [],
   "source": []
  }
 ],
 "metadata": {
  "kernelspec": {
   "display_name": "Python 3",
   "language": "python",
   "name": "python3"
  },
  "language_info": {
   "codemirror_mode": {
    "name": "ipython",
    "version": 3
   },
   "file_extension": ".py",
   "mimetype": "text/x-python",
   "name": "python",
   "nbconvert_exporter": "python",
   "pygments_lexer": "ipython3",
   "version": "3.8.3"
  }
 },
 "nbformat": 4,
 "nbformat_minor": 4
}
